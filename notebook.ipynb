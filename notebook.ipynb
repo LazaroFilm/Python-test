{
 "cells": [
  {
   "cell_type": "markdown",
   "metadata": {},
   "source": [
    "## Display in console.\n",
    "Type `print('Hello World')` to display in the console.\n",
    "\n",
    "## Assigning variables"
   ]
  },
  {
   "cell_type": "code",
   "execution_count": 26,
   "metadata": {},
   "outputs": [
    {
     "output_type": "stream",
     "name": "stdout",
     "text": [
      "my number is 6 and I love it\nmy new number is 10 and I still love it\n"
     ]
    }
   ],
   "source": [
    "my_variable=\"6\"\n",
    "print(\"my number is \" + my_variable + \" and I love it\")\n",
    "my_variable=\"10\"\n",
    "print(\"my new number is \" + my_variable + \" and I still love it\")"
   ]
  },
  {
   "cell_type": "markdown",
   "metadata": {},
   "source": [
    "## Datatypes"
   ]
  },
  {
   "cell_type": "code",
   "execution_count": 27,
   "metadata": {},
   "outputs": [],
   "source": [
    "my_string = \"apple\"\n",
    "my_integer = 3 \n",
    "my_float = 9.369\n",
    "my_boolean = True"
   ]
  },
  {
   "cell_type": "markdown",
   "metadata": {},
   "source": [
    "Use `snake_case` in Python.\n",
    "To type an apostrophe, you need to escape it `/'` \n",
    "`type()` will give you the type of your variable. \n",
    "`int()` turns into integer, `float()` for float, `str()`\n",
    "Can't directly turn a numerical int into a float, you need to do this first: `int(float(\"3.4))`\n",
    "## Arithmetic"
   ]
  },
  {
   "cell_type": "code",
   "execution_count": 28,
   "metadata": {},
   "outputs": [
    {
     "output_type": "stream",
     "name": "stdout",
     "text": [
      "Addition :  8\nSubtraction :  -4\nMultiplication :  12\nDivision (float) :  0.3333333333333333\nDivision (floor) :  0\nModulus :  2\nExponent :  64\n"
     ]
    }
   ],
   "source": [
    "a=2\n",
    "b=6\n",
    "print('Addition : ', a + b)\n",
    "print('Subtraction : ', a - b)\n",
    "print('Multiplication : ', a * b)\n",
    "print('Division (float) : ', a / b)\n",
    "print('Division (floor) : ', a // b)\n",
    "print('Modulus : ', a % b)\n",
    "print('Exponent : ', a ** b)"
   ]
  },
  {
   "cell_type": "markdown",
   "metadata": {},
   "source": [
    "## Strings"
   ]
  },
  {
   "cell_type": "code",
   "execution_count": 29,
   "metadata": {},
   "outputs": [
    {
     "output_type": "stream",
     "name": "stdout",
     "text": [
      "HELLO WORLD\nhello world\nHello world\nHello World\n11\n2\nh\nllo World\nllo World\n-1\nbye World\nTrue\nFalse\nJulien loves the color purple!\n"
     ]
    }
   ],
   "source": [
    "string=\"hello World\"\n",
    "print(string.upper())\n",
    "print(string.lower())\n",
    "print(string.capitalize()) # First letter caps\n",
    "print(string.title()) # first letter of each word caps\n",
    "print(len(string)) # length of the string\n",
    "print(string.count(\"o\")) # counts the number of \"o\" in the centence\n",
    "print(string[0]) # index of the character in the string\n",
    "print(string[2:]) # from index 2 till the end\n",
    "print(string[2:15]) # between both indexes (not inclusive of the last index)\n",
    "print(string.find(\"something\"))\n",
    "print(string.replace(\"hello\", \"bye\")) # doesn't mutate, only returns.\n",
    "print(\"hello\" in string) # boolean if \"something\" exists in the string\n",
    "print(\"hello\" not in string)\n",
    "name = \"Julien\"\n",
    "color= \"purple\"\n",
    "print(f\"{name} loves the color {color.lower()}!\") # use variables within a string"
   ]
  },
  {
   "cell_type": "markdown",
   "metadata": {},
   "source": [
    "## User input"
   ]
  },
  {
   "cell_type": "code",
   "execution_count": 30,
   "metadata": {},
   "outputs": [
    {
     "output_type": "stream",
     "name": "stdout",
     "text": [
      "Hello \n"
     ]
    }
   ],
   "source": [
    "name = input(\"what's your name\")\n",
    "print(f\"Hello {name}\")"
   ]
  },
  {
   "cell_type": "markdown",
   "metadata": {},
   "source": [
    "## Numbers"
   ]
  },
  {
   "cell_type": "code",
   "execution_count": 31,
   "metadata": {},
   "outputs": [
    {
     "output_type": "stream",
     "name": "stdout",
     "text": [
      "6\n6.0\n6\n"
     ]
    }
   ],
   "source": [
    "print(int(\"6\")) # reutnrs 6\n",
    "print(float(\"6\")) # returns 6.4\n",
    "print(round(6.4)) # rounds to 6"
   ]
  },
  {
   "cell_type": "markdown",
   "metadata": {},
   "source": [
    "## Lists"
   ]
  },
  {
   "cell_type": "code",
   "execution_count": 32,
   "metadata": {},
   "outputs": [
    {
     "output_type": "stream",
     "name": "stdout",
     "text": [
      "Riri four\n['Fifi']\n['Riri', 'Fifi', 'Loulou']\n1\n1\n['Riri', 'Loulou', 'Fifi']\nFifi\nRiri\n['Riri', 'Loulou', 'Fifi', 'Tata']\n['Riri', 'Toto', 'Loulou', 'Fifi', 'Tata']\n['Riri', 'Toto', 'Loulou', 'Fifi', 'Tata']\n['Riri', 'Toto', 'Loulou', 'Fifi', 'Tata', 'one', 'two', 'three', 'four', 'five']\n['Riri', 'Toto', 'Loulou', 'Tata', 'one', 'two', 'three', 'four', 'five']\n['Riri', 'Toto', 'Tata', 'one', 'two', 'three', 'four', 'five']\n['Riri', 'Toto', 'Tata', 'one', 'two', 'three', 'four', 'five']\n['Riri', 'Toto', 'Tata', 'one', 'two', 'three', 'four', 'five']\n['Riri', 'Toto', 'Tata', 'one', 'two', 'three', 'four', 'five']\n[]\n"
     ]
    }
   ],
   "source": [
    "ducks = [\"Riri\", \"Fifi\", \"Loulou\"]\n",
    "numbers= [\"one\", \"two\", \"three\", \"four\", \"five\"]\n",
    "print(ducks[0], numbers[3])\n",
    "print(ducks[1:2])\n",
    "print(ducks[:])\n",
    "print(ducks.index(\"Fifi\"))\n",
    "print(ducks.count(\"Loulou\"))\n",
    "ducks.sort(reverse=True)\n",
    "print(ducks)\n",
    "print(min(ducks))\n",
    "print(max(ducks))\n",
    "ducks.append(\"Tata\")\n",
    "print(ducks)\n",
    "ducks.insert(1, \"Toto\")\n",
    "print(ducks)\n",
    "ducks[3],\"Wawa\"\n",
    "print(ducks) # Replaces the item at index 3\n",
    "ducks.extend(numbers)\n",
    "print(ducks) # \n",
    "ducks.remove(\"Fifi\")\n",
    "print(ducks)\n",
    "ducks.pop(2)\n",
    "print(ducks) # \n",
    "new_list= ducks[:]\n",
    "print(new_list)\n",
    "other_new_list= ducks.copy()\n",
    "print(other_new_list)\n",
    "third_new_list=list(ducks)\n",
    "print(third_new_list)\n",
    "ducks.clear()\n",
    "print(ducks) #empties the list\n",
    "del(ducks) #deletes the whole variable\n",
    "empty_list = ()\n",
    "other_empty_list = list()\n"
   ]
  },
  {
   "cell_type": "markdown",
   "metadata": {},
   "source": [
    "## Tuples\n",
    "Tuples have `()` intead of `[]`\n",
    "uses all the same fuctions as a list except for the ones modifying it. \n",
    "Tuples are faster than lists. To modify a tuple you need to copy it's content into a new tuple and delete the old one. "
   ]
  },
  {
   "cell_type": "code",
   "execution_count": 33,
   "metadata": {},
   "outputs": [],
   "source": [
    "my_list=[\"one\", \"two\"]\n",
    "my_tuple=(\"one\", \"two\")\n",
    "empty_tuple = ()\n",
    "other_empty_tuple = tuple()"
   ]
  },
  {
   "cell_type": "markdown",
   "metadata": {},
   "source": [
    "## Sets\n",
    "Sets use `{}`\n",
    "they are unordered and remove all duplicates. Sets can be 100 times faster than a list\n"
   ]
  },
  {
   "cell_type": "code",
   "execution_count": 34,
   "metadata": {},
   "outputs": [
    {
     "output_type": "stream",
     "name": "stdout",
     "text": [
      "{'Graham', 'Eric', 'Terry', 'Michael', 'John'}\n{'Colin', 'Reg', 'Loretta', 'Graham', 'Eric'}\n{'Eric', 'Graham'}\n{'Eric', 'Graham'}\n{'Terry', 'Michael', 'John'}\n{'Terry', 'Michael', 'John'}\n{'Colin', 'Reg', 'Loretta', 'Graham', 'Eric', 'Terry', 'Michael', 'John'}\n{'Colin', 'Reg', 'Loretta', 'Graham', 'Eric', 'Terry', 'Michael', 'John'}\n{'Colin', 'Reg', 'John', 'Terry', 'Michael', 'Loretta'}\n{'Colin', 'Reg', 'John', 'Terry', 'Michael', 'Loretta'}\n['Eric', 'Terry', 'Michael', 'John', 'Graham']\n"
     ]
    }
   ],
   "source": [
    "friends = {'John','Michael','Terry','Eric','Graham','Eric', 'John'}\n",
    "my_friends = {'Reg','Loretta','Colin','Eric','Graham'}\n",
    "\n",
    "print(friends)\n",
    "print(my_friends)\n",
    "print(friends.intersection(my_friends)) # finds values that are in both sets\n",
    "print(friends & my_friends) # same as intersection \n",
    "print(friends.difference(my_friends)) # finds the values that are unique to each set\n",
    "print(friends - my_friends)\n",
    "print(friends.union(my_friends)) # returns a set of the two sets combined\n",
    "print(friends | my_friends) # Same as union with pipe character\n",
    "print(friends.symmetric_difference(my_friends))\n",
    "print(friends ^ my_friends)\n",
    "print(list(set(friends))) # creates a list with no duplicates because converting\n",
    "                          # to set removes them tne convert back to list"
   ]
  },
  {
   "cell_type": "markdown",
   "metadata": {},
   "source": [
    "To create an empty set you can't do: `empty_set = {}`, you need to use: `empty_set = set()`\n"
   ]
  },
  {
   "cell_type": "markdown",
   "metadata": {},
   "source": [
    "## Comments\n",
    "Used to explain the code or to stop a line to be executed by the compiler. \n",
    "add a `#` to each line you want to comment.\n",
    "you can also use the triple single quote `'''` to make a block comment (but really it's a string that doesn't get executed) Don't do it. \n",
    "\n",
    "## Functions\n",
    "Always declare your function before using it\n",
    "define parameter within the parentheses\n",
    "end the line with`:`\n",
    "the function needs to be indented."
   ]
  },
  {
   "cell_type": "code",
   "execution_count": 35,
   "metadata": {},
   "outputs": [
    {
     "output_type": "stream",
     "name": "stdout",
     "text": [
      "Hello Victor, you are 34 years old!\nHello , you are 18 years old!\n"
     ]
    }
   ],
   "source": [
    "def greeting(name, age=\"18\"): # in this case, 18 is the default value if not value is entered\n",
    "    print(f\"Hello {name}, you are {age} years old!\")\n",
    "\n",
    "name = input(\"your name?\")\n",
    "greeting(\"Victor\", \"34\")\n",
    "greeting(name) # takes the input variable for name and the default value for age"
   ]
  },
  {
   "cell_type": "markdown",
   "metadata": {},
   "source": [
    "## Named notation\n",
    "To pass arguments in a fucntion, you need to pass them in a given order unless you name them. "
   ]
  },
  {
   "cell_type": "code",
   "execution_count": 36,
   "metadata": {},
   "outputs": [
    {
     "output_type": "stream",
     "name": "stdout",
     "text": [
      "Hello Brian, you will be 28 next birthday!\nWe hear you like the color blue!\n"
     ]
    }
   ],
   "source": [
    "def greeting(name, age=28, color=\"red\"):\n",
    " #Greets user with “name” from “input box” and “age”, if unavailable, default age is used   \n",
    "   \n",
    "   print(f\"Hello {name.capitalize()}, you will be {age+1} next birthday!\")\n",
    "   print(f\"We hear you like the color {color.lower()}!\")\n",
    "\n",
    "greeting(age=27, name=\"brian\",color=\"Blue\")"
   ]
  },
  {
   "cell_type": "markdown",
   "metadata": {},
   "source": [
    "## Return status\n",
    "A function always returns a value. Is no value is set, it will return `null`\n",
    "You can return multiple values, defaults to a tuple. "
   ]
  },
  {
   "cell_type": "code",
   "execution_count": 37,
   "metadata": {},
   "outputs": [
    {
     "output_type": "stream",
     "name": "stdout",
     "text": [
      "(50, 8)\n"
     ]
    }
   ],
   "source": [
    "def my_function(price):\n",
    "    times_ten = price * 10\n",
    "    plus_three = price + 3\n",
    "    return times_ten, plus_three\n",
    "\n",
    "print(my_function(5))"
   ]
  },
  {
   "source": [
    "## Comparaisons\n",
    "same writing as in JS\n",
    "\n",
    "`==` equal to\n",
    "`<=` less than or equal\n",
    "\n",
    "`in` checks if the first value is in the secons\n",
    "`not in`\n",
    "`is` checks if a is the same as the second (not a copy, the exact item in the memory)"
   ],
   "cell_type": "markdown",
   "metadata": {}
  },
  {
   "cell_type": "code",
   "execution_count": 38,
   "metadata": {},
   "outputs": [
    {
     "output_type": "stream",
     "name": "stdout",
     "text": [
      "a == b is False\n",
      "a != b is True\n",
      "a > b is True\n",
      "a < b is False\n",
      "a >= b is True\n",
      "a <= b is False\n",
      "o in John is  True\n",
      "o in John is  False\n",
      "John is John  True\n",
      "John is not John is  False\n",
      "<>:11: SyntaxWarning: \"is\" with a literal. Did you mean \"==\"?\n",
      "<>:12: SyntaxWarning: \"is not\" with a literal. Did you mean \"!=\"?\n",
      "<>:11: SyntaxWarning: \"is\" with a literal. Did you mean \"==\"?\n",
      "<>:12: SyntaxWarning: \"is not\" with a literal. Did you mean \"!=\"?\n",
      "<ipython-input-38-f1a6def03c37>:11: SyntaxWarning: \"is\" with a literal. Did you mean \"==\"?\n",
      "  print('John is John ','John' is 'John') #identity\n",
      "<ipython-input-38-f1a6def03c37>:12: SyntaxWarning: \"is not\" with a literal. Did you mean \"!=\"?\n",
      "  print('John is not John is ','John' is not 'John') # negative identity\n"
     ]
    }
   ],
   "source": [
    "a=7\n",
    "b=3\n",
    "print('a == b is', a == b)\n",
    "print('a != b is', a != b)\n",
    "print('a > b is', a > b)\n",
    "print('a < b is', a < b)\n",
    "print('a >= b is', a >= b)\n",
    "print('a <= b is', a <= b)\n",
    "print('o in John is ','o' in 'John') #membership\n",
    "print('o in John is ','o' not in 'John') #non membership\n",
    "print('John is John ','John' is 'John') #identity\n",
    "print('John is not John is ','John' is not 'John') # negative identity"
   ]
  },
  {
   "source": [
    "## Conditionals\n",
    "- `if` statement\n",
    "- `or` / `and`\n",
    "- `elif` else if\n",
    "- `not` checks opposite, like (!)\n"
   ],
   "cell_type": "markdown",
   "metadata": {}
  },
  {
   "cell_type": "code",
   "execution_count": 39,
   "metadata": {},
   "outputs": [
    {
     "output_type": "stream",
     "name": "stdout",
     "text": [
      "Good Morning\nShirt is fine!\n"
     ]
    }
   ],
   "source": [
    "is_raining = False\n",
    "is_cold = False\n",
    "print(\"Good Morning\")\n",
    "if is_raining and is_cold:\n",
    "    print(\"Bring Umbrella and jacket\")\n",
    "elif is_raining and not(is_cold):\n",
    "    print(\"Bring Umbrella\")\n",
    "elif not(is_raining) and is_cold:\n",
    "    print(\"Bring Jacket\")\n",
    "else:\n",
    "    print(\"Shirt is fine!\")"
   ]
  },
  {
   "cell_type": "code",
   "execution_count": 46,
   "metadata": {},
   "outputs": [
    {
     "output_type": "stream",
     "name": "stdout",
     "text": [
      "calculator\n",
      "8.0\n"
     ]
    }
   ],
   "source": [
    "def convert(a, x):\n",
    "    if x == \"c\":\n",
    "        return a*9/5+32\n",
    "    else:\n",
    "        return (a-32)*5/9\n",
    "    \n",
    "def calculate(a, x, b):\n",
    "    if x == \"+\":\n",
    "        return a+b\n",
    "    elif x == \"-\":\n",
    "        return a-b\n",
    "    elif x == \"*\":\n",
    "        return a*b\n",
    "    elif x == \"/\":\n",
    "        return a/b\n",
    "    else:\n",
    "        return \"error\"\n",
    "\n",
    "def calculator():\n",
    "    a = float(input(\"first number: \"))\n",
    "    x = input(\"operation: \")\n",
    "    if x.lower() == \"f\" or x == \"c\":\n",
    "        print(\"converter\")\n",
    "        return convert(a, x)\n",
    "    else:\n",
    "        print(\"calculator\")\n",
    "        b = float(input(\"second number: \"))\n",
    "        return calculate(a, x, b)\n",
    "\n",
    "print(calculator())"
   ]
  },
  {
   "source": [
    "## While loopsp\n",
    "\n",
    "you can iterate with `i+=1` but you can't do `i++`"
   ],
   "cell_type": "markdown",
   "metadata": {}
  },
  {
   "cell_type": "code",
   "execution_count": 49,
   "metadata": {},
   "outputs": [
    {
     "output_type": "stream",
     "name": "stdout",
     "text": [
      "1.*Loops are awesome*\n2.**Loops are awesome**\n3.***Loops are awesome***\n4.****Loops are awesome****\n5.*****Loops are awesome*****\n"
     ]
    }
   ],
   "source": [
    "i=0\n",
    "while i < 5:\n",
    "    i+=1\n",
    "    print(f\"{i}.\"+ \"*\"*i + \"Loops are awesome\" + \"*\"*i)"
   ]
  },
  {
   "cell_type": "code",
   "execution_count": null,
   "metadata": {},
   "outputs": [],
   "source": []
  }
 ],
 "metadata": {
  "kernelspec": {
   "display_name": "Python 3",
   "language": "python",
   "name": "python3"
  },
  "language_info": {
   "codemirror_mode": {
    "name": "ipython",
    "version": 3
   },
   "file_extension": ".py",
   "mimetype": "text/x-python",
   "name": "python",
   "nbconvert_exporter": "python",
   "pygments_lexer": "ipython3",
   "version": "3.8.5-final"
  }
 },
 "nbformat": 4,
 "nbformat_minor": 2
}